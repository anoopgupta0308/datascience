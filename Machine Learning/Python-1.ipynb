{
 "cells": [
  {
   "cell_type": "markdown",
   "id": "2e5a3498",
   "metadata": {},
   "source": [
    "# Intro to python with jupyter Notebook\n"
   ]
  },
  {
   "cell_type": "code",
   "execution_count": 14,
   "id": "bd03a872",
   "metadata": {},
   "outputs": [
    {
     "name": "stdout",
     "output_type": "stream",
     "text": [
      "Hello World\n"
     ]
    }
   ],
   "source": [
    "print(\"Hello World\")\n"
   ]
  },
  {
   "cell_type": "code",
   "execution_count": 15,
   "id": "35836a44",
   "metadata": {},
   "outputs": [
    {
     "name": "stdout",
     "output_type": "stream",
     "text": [
      "Hello World!\n"
     ]
    }
   ],
   "source": [
    "print(\"Hello World!\")"
   ]
  },
  {
   "cell_type": "code",
   "execution_count": 16,
   "id": "fb7fbf4b",
   "metadata": {},
   "outputs": [
    {
     "name": "stdout",
     "output_type": "stream",
     "text": [
      "Hi Students\n"
     ]
    }
   ],
   "source": [
    "print(\"Hi Students\")"
   ]
  },
  {
   "cell_type": "code",
   "execution_count": 17,
   "id": "c7f866ac",
   "metadata": {},
   "outputs": [
    {
     "ename": "NameError",
     "evalue": "name 'PRINT' is not defined",
     "output_type": "error",
     "traceback": [
      "\u001b[1;31m---------------------------------------------------------------------------\u001b[0m",
      "\u001b[1;31mNameError\u001b[0m                                 Traceback (most recent call last)",
      "\u001b[1;32m~\\AppData\\Local\\Temp\\ipykernel_11028\\3139324998.py\u001b[0m in \u001b[0;36m<module>\u001b[1;34m\u001b[0m\n\u001b[1;32m----> 1\u001b[1;33m \u001b[0mPRINT\u001b[0m\u001b[1;33m(\u001b[0m\u001b[1;34m\"HI ALL\"\u001b[0m\u001b[1;33m)\u001b[0m\u001b[1;33m\u001b[0m\u001b[1;33m\u001b[0m\u001b[0m\n\u001b[0m",
      "\u001b[1;31mNameError\u001b[0m: name 'PRINT' is not defined"
     ]
    }
   ],
   "source": [
    "PRINT(\"HI ALL\")"
   ]
  },
  {
   "cell_type": "code",
   "execution_count": null,
   "id": "977a092c",
   "metadata": {},
   "outputs": [],
   "source": [
    "print('Hi')"
   ]
  },
  {
   "cell_type": "code",
   "execution_count": null,
   "id": "d21dd849",
   "metadata": {},
   "outputs": [],
   "source": [
    "print(\"Hii')"
   ]
  },
  {
   "cell_type": "code",
   "execution_count": null,
   "id": "87f741ed",
   "metadata": {},
   "outputs": [],
   "source": [
    "print(\"Hill All\""
   ]
  },
  {
   "cell_type": "markdown",
   "id": "0a0a424d",
   "metadata": {},
   "source": [
    "# Comments\n"
   ]
  },
  {
   "cell_type": "code",
   "execution_count": 18,
   "id": "7acab4f7",
   "metadata": {},
   "outputs": [
    {
     "name": "stdout",
     "output_type": "stream",
     "text": [
      "Hello World\n"
     ]
    }
   ],
   "source": [
    "# This is Hello World for python 3 in jupyter Notebook.\n",
    "print(\"Hello World\")"
   ]
  },
  {
   "cell_type": "markdown",
   "id": "3fb2f702",
   "metadata": {},
   "source": [
    "# Edit\n",
    "# Save\n",
    "# Run\n",
    "\n"
   ]
  },
  {
   "cell_type": "code",
   "execution_count": 19,
   "id": "55fbe989",
   "metadata": {},
   "outputs": [
    {
     "data": {
      "text/plain": [
       "10"
      ]
     },
     "execution_count": 19,
     "metadata": {},
     "output_type": "execute_result"
    }
   ],
   "source": [
    "a  = 4\n",
    "b = a + 6\n",
    "b"
   ]
  },
  {
   "cell_type": "code",
   "execution_count": 20,
   "id": "8cc7b637",
   "metadata": {},
   "outputs": [
    {
     "data": {
      "text/plain": [
       "7"
      ]
     },
     "execution_count": 20,
     "metadata": {},
     "output_type": "execute_result"
    }
   ],
   "source": [
    "x = 7\n",
    "y = x -3\n",
    "x"
   ]
  },
  {
   "cell_type": "code",
   "execution_count": 21,
   "id": "91fda35f",
   "metadata": {
    "collapsed": true
   },
   "outputs": [
    {
     "data": {
      "text/plain": [
       "40"
      ]
     },
     "execution_count": 21,
     "metadata": {},
     "output_type": "execute_result"
    }
   ],
   "source": [
    "s = 8\n",
    "t = s *5\n",
    "t"
   ]
  },
  {
   "cell_type": "code",
   "execution_count": 22,
   "id": "79413441",
   "metadata": {},
   "outputs": [
    {
     "data": {
      "text/plain": [
       "40"
      ]
     },
     "execution_count": 22,
     "metadata": {},
     "output_type": "execute_result"
    }
   ],
   "source": [
    "r = 40\n",
    "u = r/5\n",
    "r"
   ]
  },
  {
   "cell_type": "markdown",
   "id": "6cc961bd",
   "metadata": {},
   "source": [
    "## Insert Cells\n",
    "#Reset the karnal\n",
    "\n"
   ]
  },
  {
   "cell_type": "markdown",
   "id": "fae32b7d",
   "metadata": {},
   "source": [
    "What are variable ?\n",
    "\n",
    "In python a variable is a form of object that can be addressed by name to access the assigned content.\n",
    "\n",
    "Initializing variable\n",
    "\n",
    "literals & variable in printing \n",
    "\n",
    "variable reassignment \n"
   ]
  },
  {
   "cell_type": "code",
   "execution_count": 1,
   "id": "8c5e2c67",
   "metadata": {},
   "outputs": [
    {
     "ename": "TypeError",
     "evalue": "type() takes 1 or 3 arguments",
     "output_type": "error",
     "traceback": [
      "\u001b[1;31m---------------------------------------------------------------------------\u001b[0m",
      "\u001b[1;31mTypeError\u001b[0m                                 Traceback (most recent call last)",
      "\u001b[1;32m~\\AppData\\Local\\Temp\\ipykernel_10176\\1338316352.py\u001b[0m in \u001b[0;36m<module>\u001b[1;34m\u001b[0m\n\u001b[0;32m      1\u001b[0m \u001b[0my\u001b[0m \u001b[1;33m=\u001b[0m \u001b[1;36m8\u001b[0m\u001b[1;33m\u001b[0m\u001b[1;33m\u001b[0m\u001b[0m\n\u001b[1;32m----> 2\u001b[1;33m \u001b[0mtype\u001b[0m\u001b[1;33m(\u001b[0m\u001b[1;33m)\u001b[0m\u001b[1;33m\u001b[0m\u001b[1;33m\u001b[0m\u001b[0m\n\u001b[0m",
      "\u001b[1;31mTypeError\u001b[0m: type() takes 1 or 3 arguments"
     ]
    }
   ],
   "source": [
    "y = 8\n",
    "type()\n"
   ]
  },
  {
   "cell_type": "code",
   "execution_count": 25,
   "id": "7c6c8980",
   "metadata": {},
   "outputs": [
    {
     "data": {
      "text/plain": [
       "8"
      ]
     },
     "execution_count": 25,
     "metadata": {},
     "output_type": "execute_result"
    }
   ],
   "source": [
    "y\n"
   ]
  },
  {
   "cell_type": "code",
   "execution_count": 26,
   "id": "f0725fa8",
   "metadata": {},
   "outputs": [],
   "source": [
    "Stock_price = 8\n",
    "\n"
   ]
  },
  {
   "cell_type": "code",
   "execution_count": 27,
   "id": "0b40f960",
   "metadata": {},
   "outputs": [
    {
     "ename": "SyntaxError",
     "evalue": "invalid syntax (3235749349.py, line 1)",
     "output_type": "error",
     "traceback": [
      "\u001b[1;36m  File \u001b[1;32m\"C:\\Users\\admin\\AppData\\Local\\Temp\\ipykernel_11028\\3235749349.py\"\u001b[1;36m, line \u001b[1;32m1\u001b[0m\n\u001b[1;33m    last_name  \"robert\"\u001b[0m\n\u001b[1;37m               ^\u001b[0m\n\u001b[1;31mSyntaxError\u001b[0m\u001b[1;31m:\u001b[0m invalid syntax\n"
     ]
    }
   ],
   "source": [
    "    last_name  \"robert\""
   ]
  },
  {
   "cell_type": "code",
   "execution_count": 28,
   "id": "8373c0ca",
   "metadata": {},
   "outputs": [],
   "source": [
    "last_name =  \"robert\""
   ]
  },
  {
   "cell_type": "code",
   "execution_count": 29,
   "id": "14c75b18",
   "metadata": {},
   "outputs": [
    {
     "data": {
      "text/plain": [
       "'robert'"
      ]
     },
     "execution_count": 29,
     "metadata": {},
     "output_type": "execute_result"
    }
   ],
   "source": [
    "last_name\n"
   ]
  },
  {
   "cell_type": "code",
   "execution_count": 30,
   "id": "95e6b09d",
   "metadata": {},
   "outputs": [],
   "source": [
    "learning_python = \"I am Anoop Gupta . I am learning python\""
   ]
  },
  {
   "cell_type": "code",
   "execution_count": 31,
   "id": "43511d3a",
   "metadata": {},
   "outputs": [
    {
     "data": {
      "text/plain": [
       "'I am Anoop Gupta . I am learning python'"
      ]
     },
     "execution_count": 31,
     "metadata": {},
     "output_type": "execute_result"
    }
   ],
   "source": [
    "learning_python"
   ]
  },
  {
   "cell_type": "code",
   "execution_count": 32,
   "id": "e0fb1c56",
   "metadata": {},
   "outputs": [
    {
     "name": "stdout",
     "output_type": "stream",
     "text": [
      "robert\n"
     ]
    }
   ],
   "source": [
    "print(last_name)"
   ]
  },
  {
   "cell_type": "markdown",
   "id": "5faca2c7",
   "metadata": {},
   "source": [
    "What is String ?\n",
    "\n",
    "a sequence of characters. A,B,C,D,E,F,a,b,c,d,1,2,3, / + - , * , @ , #, $, etc\n",
    "\n",
    "Using single or double quote.\n",
    "\n",
    "Use quote that match.\n",
    "\n"
   ]
  },
  {
   "cell_type": "code",
   "execution_count": 33,
   "id": "f1860992",
   "metadata": {},
   "outputs": [
    {
     "name": "stdout",
     "output_type": "stream",
     "text": [
      "Hii, I am anoop Gupta\n"
     ]
    }
   ],
   "source": [
    "print (\"Hii, I am anoop Gupta\")"
   ]
  },
  {
   "cell_type": "markdown",
   "id": "58be395b",
   "metadata": {},
   "source": [
    "What are integers?\n",
    "\n",
    "Integer are another data type\n",
    "\n",
    "Integer are another data type.\n",
    "\n",
    "whole number such as ...-3,-2,-1,0,1,2,3..... are integers.\n",
    "\n",
    "Integer are not placed in quotes.\n"
   ]
  },
  {
   "cell_type": "markdown",
   "id": "1f969768",
   "metadata": {},
   "source": [
    "A String can contain any character, this includes letters, spaces,symbols , number, digits , and formatting. In a string with \n",
    "\n",
    "and formatting.In a string with digits(\"765\") the digits are text images rather than representations of numeric values.\n"
   ]
  },
  {
   "cell_type": "code",
   "execution_count": 34,
   "id": "1509ecc3",
   "metadata": {},
   "outputs": [
    {
     "name": "stdout",
     "output_type": "stream",
     "text": [
      "1111\n"
     ]
    }
   ],
   "source": [
    "print(1111)"
   ]
  },
  {
   "cell_type": "code",
   "execution_count": 35,
   "id": "1cb79492",
   "metadata": {},
   "outputs": [
    {
     "name": "stdout",
     "output_type": "stream",
     "text": [
      "-33333\n"
     ]
    }
   ],
   "source": [
    "print(-33333)"
   ]
  },
  {
   "cell_type": "code",
   "execution_count": 36,
   "id": "723f59c2",
   "metadata": {},
   "outputs": [
    {
     "name": "stdout",
     "output_type": "stream",
     "text": [
      "1111x\n"
     ]
    }
   ],
   "source": [
    "print(\"1111x\")"
   ]
  },
  {
   "cell_type": "markdown",
   "id": "ff02b38a",
   "metadata": {},
   "source": [
    "Data type in variables.\n",
    "\n",
    "In python variable can changes the data type "
   ]
  },
  {
   "cell_type": "code",
   "execution_count": 37,
   "id": "ee996320",
   "metadata": {},
   "outputs": [],
   "source": [
    "student = \"Ali\"\n"
   ]
  },
  {
   "cell_type": "code",
   "execution_count": 38,
   "id": "fc31aa6e",
   "metadata": {},
   "outputs": [
    {
     "data": {
      "text/plain": [
       "'Ali'"
      ]
     },
     "execution_count": 38,
     "metadata": {},
     "output_type": "execute_result"
    }
   ],
   "source": [
    "student"
   ]
  },
  {
   "cell_type": "code",
   "execution_count": 2,
   "id": "a0cd11bd",
   "metadata": {},
   "outputs": [
    {
     "name": "stdout",
     "output_type": "stream",
     "text": [
      "I Love DataScience Course\n"
     ]
    }
   ],
   "source": [
    "print(\"I \" + \"Love \" + \"Data\" + \"Science\"+ \" Course\" )"
   ]
  },
  {
   "cell_type": "code",
   "execution_count": 3,
   "id": "e72f4aa7",
   "metadata": {},
   "outputs": [],
   "source": [
    "f_name = \"Ahmed\""
   ]
  },
  {
   "cell_type": "code",
   "execution_count": 4,
   "id": "e1c7717d",
   "metadata": {},
   "outputs": [
    {
     "name": "stdout",
     "output_type": "stream",
     "text": [
      "Ahmed Likes Reading\n"
     ]
    }
   ],
   "source": [
    "print(f_name + \" Likes Reading\")"
   ]
  },
  {
   "cell_type": "code",
   "execution_count": null,
   "id": "61d79e76",
   "metadata": {},
   "outputs": [],
   "source": []
  }
 ],
 "metadata": {
  "kernelspec": {
   "display_name": "Python 3 (ipykernel)",
   "language": "python",
   "name": "python3"
  },
  "language_info": {
   "codemirror_mode": {
    "name": "ipython",
    "version": 3
   },
   "file_extension": ".py",
   "mimetype": "text/x-python",
   "name": "python",
   "nbconvert_exporter": "python",
   "pygments_lexer": "ipython3",
   "version": "3.9.13"
  }
 },
 "nbformat": 4,
 "nbformat_minor": 5
}
